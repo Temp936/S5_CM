{
 "cells": [
  {
   "cell_type": "code",
   "execution_count": 50,
   "id": "7fcddb28",
   "metadata": {},
   "outputs": [],
   "source": [
    "import matplotlib.pyplot as plt\n",
    "from sympy import lambdify, Symbol\n",
    "import math\n",
    "import numpy as np"
   ]
  },
  {
   "cell_type": "code",
   "execution_count": 51,
   "id": "e9f1806d",
   "metadata": {},
   "outputs": [],
   "source": [
    "def F(x):\n",
    "    return x*x*x*x*x - x*x*x*x - x*x - 1"
   ]
  },
  {
   "cell_type": "code",
   "execution_count": 52,
   "id": "e666bd73",
   "metadata": {},
   "outputs": [],
   "source": [
    "def F1(x):\n",
    "    return 5*x*x*x*x - 4*x*x*x - 2*x"
   ]
  },
  {
   "cell_type": "code",
   "execution_count": 73,
   "id": "86bdcd09",
   "metadata": {},
   "outputs": [
    {
     "name": "stdout",
     "output_type": "stream",
     "text": [
      "1.57012939453125\n",
      "17\n"
     ]
    }
   ],
   "source": [
    "n = 0\n",
    "a = 0\n",
    "b = 10\n",
    "eps = 0.001\n",
    "\n",
    "while math.fabs(F(a) - F(b)) > eps:\n",
    "    n+=1\n",
    "    c = (a+b)/2\n",
    "    if F(c)==0:\n",
    "        a = c\n",
    "        break\n",
    "    if F(c)*F(a) < 0:\n",
    "        b = c\n",
    "    else:\n",
    "        a = c\n",
    "print(a)\n",
    "print(n)\n",
    "\n"
   ]
  },
  {
   "cell_type": "code",
   "execution_count": 74,
   "id": "91d8c749",
   "metadata": {},
   "outputs": [
    {
     "name": "stdout",
     "output_type": "stream",
     "text": [
      "1.5701472759246826\n",
      "27\n"
     ]
    }
   ],
   "source": [
    "n = 0\n",
    "a = 0\n",
    "b = 10\n",
    "eps = 0.000001\n",
    "\n",
    "while math.fabs(F(a) - F(b)) > eps:\n",
    "    n+=1\n",
    "    c = (a+b)/2\n",
    "    if F(c)==0:\n",
    "        a = c\n",
    "        break\n",
    "    if F(c)*F(a) < 0:\n",
    "        b = c\n",
    "    else:\n",
    "        a = c\n",
    "print(a)\n",
    "print(n)\n"
   ]
  },
  {
   "cell_type": "code",
   "execution_count": 75,
   "id": "b2eb5d7a",
   "metadata": {},
   "outputs": [
    {
     "name": "stdout",
     "output_type": "stream",
     "text": [
      "1.5701473121589515\n",
      "37\n"
     ]
    }
   ],
   "source": [
    "n = 0\n",
    "a = 0\n",
    "b = 10\n",
    "eps = 0.000000001\n",
    "\n",
    "while math.fabs(F(a) - F(b)) > eps:\n",
    "    n+=1\n",
    "    c = (a+b)/2\n",
    "    if F(c)==0:\n",
    "        a = c\n",
    "        break\n",
    "    if F(c)*F(a) < 0:\n",
    "        b = c\n",
    "    else:\n",
    "        a = c\n",
    "print(a)\n",
    "print(n)\n"
   ]
  },
  {
   "cell_type": "code",
   "execution_count": 76,
   "id": "1b605599",
   "metadata": {},
   "outputs": [
    {
     "name": "stdout",
     "output_type": "stream",
     "text": [
      "1.5701644304428086\n",
      "13\n"
     ]
    }
   ],
   "source": [
    "n = 0\n",
    "a = 0\n",
    "b = 10\n",
    "eps = 0.001\n",
    "while math.fabs(F(a) - F(b)) > eps:\n",
    "    n+=1 \n",
    "    a=b\n",
    "    b = b - F(b)/F1(b)\n",
    "print(a)\n",
    "print(n)"
   ]
  },
  {
   "cell_type": "code",
   "execution_count": 77,
   "id": "a157e7b0",
   "metadata": {},
   "outputs": [
    {
     "name": "stdout",
     "output_type": "stream",
     "text": [
      "1.570147312766808\n",
      "14\n"
     ]
    }
   ],
   "source": [
    "n = 0\n",
    "a = 0\n",
    "b = 10\n",
    "eps = 0.000001\n",
    "while math.fabs(F(a) - F(b)) > eps:\n",
    "    n+=1 \n",
    "    a=b\n",
    "    b = b - F(b)/F1(b)\n",
    "print(a)\n",
    "print(n)"
   ]
  },
  {
   "cell_type": "code",
   "execution_count": 78,
   "id": "143df124",
   "metadata": {},
   "outputs": [
    {
     "name": "stdout",
     "output_type": "stream",
     "text": [
      "1.5701473121960543\n",
      "15\n"
     ]
    }
   ],
   "source": [
    "n = 0\n",
    "a = 0\n",
    "b = 10\n",
    "eps = 0.000000001\n",
    "while math.fabs(F(a) - F(b)) > eps:\n",
    "    n+=1 \n",
    "    a=b\n",
    "    b = b - F(b)/F1(b)\n",
    "print(a)\n",
    "print(n)"
   ]
  },
  {
   "cell_type": "code",
   "execution_count": null,
   "id": "4ac7c572",
   "metadata": {},
   "outputs": [],
   "source": []
  }
 ],
 "metadata": {
  "kernelspec": {
   "display_name": "Python 3",
   "language": "python",
   "name": "python3"
  },
  "language_info": {
   "codemirror_mode": {
    "name": "ipython",
    "version": 3
   },
   "file_extension": ".py",
   "mimetype": "text/x-python",
   "name": "python",
   "nbconvert_exporter": "python",
   "pygments_lexer": "ipython3",
   "version": "3.8.8"
  }
 },
 "nbformat": 4,
 "nbformat_minor": 5
}
